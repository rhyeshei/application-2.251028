{
 "cells": [
  {
   "cell_type": "code",
   "execution_count": 18,
   "id": "acf9ef93",
   "metadata": {},
   "outputs": [
    {
     "name": "stdout",
     "output_type": "stream",
     "text": [
      "Defaulting to user installation because normal site-packages is not writeable\n",
      "Requirement already satisfied: bs4 in /Users/rhyeshei/Library/Python/3.9/lib/python/site-packages (0.0.2)\n",
      "Requirement already satisfied: beautifulsoup4 in /Users/rhyeshei/Library/Python/3.9/lib/python/site-packages (from bs4) (4.14.2)\n",
      "Requirement already satisfied: soupsieve>1.2 in /Users/rhyeshei/Library/Python/3.9/lib/python/site-packages (from beautifulsoup4->bs4) (2.8)\n",
      "Requirement already satisfied: typing-extensions>=4.0.0 in /Users/rhyeshei/Library/Python/3.9/lib/python/site-packages (from beautifulsoup4->bs4) (4.15.0)\n"
     ]
    }
   ],
   "source": [
    "!pip3 install bs4"
   ]
  },
  {
   "cell_type": "code",
   "execution_count": null,
   "id": "b225cc48",
   "metadata": {},
   "outputs": [],
   "source": [
    "import requests\n",
    "from bs4 import BeautifulSoup\n",
    "import pandas as pd \n",
    "\n",
    "url = 'https://www.kinokuniya.co.jp/f/dsd-101005021--'\n",
    "res = requests.get(url)\n",
    "\n",
    "res.text\n",
    "soup = BeautifulSoup(res.text, 'html.parser')\n",
    "\n",
    "book_div = soup.select_one('.list_area_wrap')\n",
    "\n",
    "books_a_span = book_div.select('a img.mb05,span.sale_price')\n",
    "\n",
    "pairs = list(zip(books_a_span[0::2],books_a_span[1::2]))\n",
    "\n",
    "\n",
    "data =[]\n",
    "\n",
    "for book in pairs:\n",
    "    names,prices = book\n",
    "    name = names.get('alt','').strip()\n",
    "\n",
    "    price = prices.get_text(strip=True)\n",
    "\n",
    "    name = name.replace('\\u3000',' ')\n",
    "\n",
    "    price = int(price.replace('¥','').replace(',',''))\n",
    "\n",
    "    one_data = {\n",
    "        'name' : name,\n",
    "        'price' : price \n",
    "    }\n",
    "    data.append(one_data)\n",
    "\n",
    "\n",
    "!pip3 install pandas\n",
    "\n",
    "df = pd.DataFrame(data)\n",
    "\n",
    "\n",
    "df = df.rename(columns={'name': '書名', 'price': '価格'})\n",
    "\n",
    "df.to_csv('books.csv', index=False, encoding='utf-8-sig')"
   ]
  }
 ],
 "metadata": {
  "kernelspec": {
   "display_name": "Python 3",
   "language": "python",
   "name": "python3"
  },
  "language_info": {
   "codemirror_mode": {
    "name": "ipython",
    "version": 3
   },
   "file_extension": ".py",
   "mimetype": "text/x-python",
   "name": "python",
   "nbconvert_exporter": "python",
   "pygments_lexer": "ipython3",
   "version": "3.9.6"
  }
 },
 "nbformat": 4,
 "nbformat_minor": 5
}
